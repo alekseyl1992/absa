{
 "cells": [
  {
   "cell_type": "code",
   "execution_count": 12,
   "metadata": {
    "collapsed": false
   },
   "outputs": [
    {
     "name": "stdout",
     "output_type": "stream",
     "text": [
      "It is so nice .\n",
      "{0: [0, 2, 3, 3, 2],\n",
      " 1: [2, 0, 2, 2, 2],\n",
      " 2: [3, 2, 0, 1, 3],\n",
      " 3: [3, 2, 1, 0, 3],\n",
      " 4: [2, 2, 3, 3, 0]}\n"
     ]
    }
   ],
   "source": [
    "from pprint import pprint\n",
    "from nltk.tree import ParentedTree\n",
    "\n",
    "def get_distance(tree, from_id, to_id):\n",
    "    from_location = ptree.leaf_treeposition(from_id)\n",
    "    to_location = ptree.leaf_treeposition(to_id)\n",
    "    \n",
    "    matching_distance = 0\n",
    "    for i, (x, y) in enumerate(zip(from_location, to_location)):\n",
    "        if x == y:\n",
    "            matching_distance += 1\n",
    "        else:\n",
    "            break\n",
    "            \n",
    "    distance = max([len(from_location), len(to_location)]) - matching_distance\n",
    "    \n",
    "    # ignore pre-last tree level\n",
    "    if distance != 0:\n",
    "        distance -= 1\n",
    "    \n",
    "    return distance\n",
    "\n",
    "ptree = ParentedTree.fromstring('(ROOT (S (NP (PRP It)) \\\n",
    "        (VP (VBZ is) (ADJP (RB so) (JJ nice))) (. .)))')\n",
    "\n",
    "leaf_values = ptree.leaves()\n",
    "print(' '.join(leaf_values))\n",
    "\n",
    "distance_matrix = {}\n",
    "for leaf_id_from, leaf_from in enumerate(leaf_values):\n",
    "    distance_matrix[leaf_id_from] = []\n",
    "    for leaf_id_to, leaf_to in enumerate(leaf_values):\n",
    "        distance = get_distance(ptree, leaf_id_from, leaf_id_to)\n",
    "        distance_matrix[leaf_id_from].append(distance)\n",
    "    \n",
    "pprint(distance_matrix)\n",
    "ptree.draw()"
   ]
  }
 ],
 "metadata": {
  "kernelspec": {
   "display_name": "absa",
   "language": "python",
   "name": "absa"
  },
  "language_info": {
   "codemirror_mode": {
    "name": "ipython",
    "version": 3
   },
   "file_extension": ".py",
   "mimetype": "text/x-python",
   "name": "python",
   "nbconvert_exporter": "python",
   "pygments_lexer": "ipython3",
   "version": "3.6.0"
  }
 },
 "nbformat": 4,
 "nbformat_minor": 0
}
