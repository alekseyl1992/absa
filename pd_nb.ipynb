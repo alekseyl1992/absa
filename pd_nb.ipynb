{
 "cells": [
  {
   "cell_type": "code",
   "execution_count": 1,
   "metadata": {
    "collapsed": false
   },
   "outputs": [
    {
     "name": "stderr",
     "output_type": "stream",
     "text": [
      "C:\\Users\\Alekseyl\\Envs\\absa\\lib\\site-packages\\gensim\\utils.py:855: UserWarning: detected Windows; aliasing chunkize to chunkize_serial\n",
      "  warnings.warn(\"detected Windows; aliasing chunkize to chunkize_serial\")\n",
      "Using TensorFlow backend.\n"
     ]
    }
   ],
   "source": [
    "from importlib import reload\n",
    "from utils import *\n",
    "import test\n",
    "import polarity\n",
    "import acd"
   ]
  },
  {
   "cell_type": "code",
   "execution_count": 2,
   "metadata": {
    "collapsed": false
   },
   "outputs": [
    {
     "name": "stdout",
     "output_type": "stream",
     "text": [
      "Loading real w2v...\n",
      "Done\n"
     ]
    }
   ],
   "source": [
    "w2v = load_w2v()"
   ]
  },
  {
   "cell_type": "code",
   "execution_count": 3,
   "metadata": {
    "collapsed": false
   },
   "outputs": [
    {
     "name": "stdout",
     "output_type": "stream",
     "text": [
      "-- ACD:\n",
      "Loading tokenizer...\n",
      "Loading stemmer...\n",
      "Loading dataset...\n",
      "Training...\n",
      "Evaluating...\n",
      "F1: {'f1': 0.6904231625835189, 'precision': 0.7029478458049887, 'recall': 0.6783369803063457, 'tp': 310, 'fp': 131, 'fn': 147}\n"
     ]
    },
    {
     "name": "stderr",
     "output_type": "stream",
     "text": [
      "C:\\Users\\Alekseyl\\Envs\\absa\\lib\\site-packages\\sklearn\\neural_network\\multilayer_perceptron.py:563: ConvergenceWarning: Stochastic Optimizer: Maximum iterations reached and the optimization hasn't converged yet.\n",
      "  % (), ConvergenceWarning)\n"
     ]
    }
   ],
   "source": [
    "reload(acd)\n",
    "acd_ = acd.ACD(w2v)\n",
    "acd_.train_acd()"
   ]
  },
  {
   "cell_type": "code",
   "execution_count": 4,
   "metadata": {
    "collapsed": false,
    "scrolled": false
   },
   "outputs": [
    {
     "name": "stdout",
     "output_type": "stream",
     "text": [
      "-- PD:\n",
      "Loading tokenizer...\n",
      "Loading stemmer...\n",
      "Loading parser...\n",
      "Loading dataset...\n",
      "Core NLP Parser preprocessing result pickled\n",
      "get_pd_ds progress: 0/1708\n",
      "get_pd_ds progress: 100/1708\n",
      "get_pd_ds progress: 200/1708\n",
      "get_pd_ds progress: 300/1708\n",
      "get_pd_ds progress: 400/1708\n",
      "get_pd_ds progress: 500/1708\n",
      "get_pd_ds progress: 600/1708\n",
      "get_pd_ds progress: 700/1708\n",
      "get_pd_ds progress: 800/1708\n",
      "get_pd_ds progress: 900/1708\n",
      "get_pd_ds progress: 1000/1708\n",
      "get_pd_ds progress: 1100/1708\n",
      "get_pd_ds progress: 1200/1708\n",
      "get_pd_ds progress: 1300/1708\n",
      "get_pd_ds progress: 1400/1708\n",
      "get_pd_ds progress: 1500/1708\n",
      "get_pd_ds progress: 1600/1708\n",
      "get_pd_ds progress: 1700/1708\n"
     ]
    }
   ],
   "source": [
    "reload(polarity)\n",
    "pd = polarity.PD(w2v, acd_)\n",
    "data = pd.prepare_data(pd.get_pd_features_map_tree_distance, False)"
   ]
  },
  {
   "cell_type": "code",
   "execution_count": 8,
   "metadata": {
    "collapsed": false,
    "scrolled": false
   },
   "outputs": [
    {
     "name": "stdout",
     "output_type": "stream",
     "text": [
      "Train on 2005 samples, validate on 502 samples\n",
      "Epoch 1/30\n",
      "2005/2005 [==============================] - 4s - loss: 0.7474 - acc: 0.7112 - val_loss: 0.9510 - val_acc: 0.4243\n",
      "Epoch 2/30\n",
      "2005/2005 [==============================] - 3s - loss: 0.6045 - acc: 0.7282 - val_loss: 0.7976 - val_acc: 0.4980\n",
      "Epoch 3/30\n",
      "2005/2005 [==============================] - 3s - loss: 0.5357 - acc: 0.7776 - val_loss: 0.8468 - val_acc: 0.4880\n",
      "Epoch 4/30\n",
      "2005/2005 [==============================] - 3s - loss: 0.4798 - acc: 0.8219 - val_loss: 0.7799 - val_acc: 0.5817\n",
      "Epoch 5/30\n",
      "2005/2005 [==============================] - 3s - loss: 0.4381 - acc: 0.8409 - val_loss: 0.6374 - val_acc: 0.7371\n",
      "Epoch 6/30\n",
      "2005/2005 [==============================] - 4s - loss: 0.4079 - acc: 0.8479 - val_loss: 0.5747 - val_acc: 0.8247\n",
      "Epoch 7/30\n",
      "2005/2005 [==============================] - 3s - loss: 0.3859 - acc: 0.8554 - val_loss: 0.6181 - val_acc: 0.7530\n",
      "Epoch 8/30\n",
      "2005/2005 [==============================] - 4s - loss: 0.3598 - acc: 0.8733 - val_loss: 0.7954 - val_acc: 0.6135\n",
      "Epoch 9/30\n",
      "2005/2005 [==============================] - 3s - loss: 0.3411 - acc: 0.8788 - val_loss: 0.6934 - val_acc: 0.6594\n",
      "Epoch 10/30\n",
      "2005/2005 [==============================] - 3s - loss: 0.3214 - acc: 0.8873 - val_loss: 0.6877 - val_acc: 0.6713\n",
      "Epoch 11/30\n",
      "2005/2005 [==============================] - 3s - loss: 0.3028 - acc: 0.8928 - val_loss: 0.8493 - val_acc: 0.6016\n",
      "Epoch 12/30\n",
      "2005/2005 [==============================] - 3s - loss: 0.2996 - acc: 0.8918 - val_loss: 0.5856 - val_acc: 0.7789\n",
      "Epoch 13/30\n",
      "2005/2005 [==============================] - 3s - loss: 0.2848 - acc: 0.8943 - val_loss: 0.5980 - val_acc: 0.7649\n",
      "Epoch 14/30\n",
      "2005/2005 [==============================] - 3s - loss: 0.2678 - acc: 0.9042 - val_loss: 0.6580 - val_acc: 0.7151\n",
      "Epoch 15/30\n",
      "2005/2005 [==============================] - 3s - loss: 0.2618 - acc: 0.9032 - val_loss: 0.6926 - val_acc: 0.6972\n",
      "Epoch 16/30\n",
      "2005/2005 [==============================] - 3s - loss: 0.2487 - acc: 0.9112 - val_loss: 0.6475 - val_acc: 0.7231\n",
      "Epoch 17/30\n",
      "2005/2005 [==============================] - 3s - loss: 0.2360 - acc: 0.9172 - val_loss: 0.6623 - val_acc: 0.7171\n",
      "Epoch 18/30\n",
      "2005/2005 [==============================] - 3s - loss: 0.2296 - acc: 0.9147 - val_loss: 0.5537 - val_acc: 0.8068\n",
      "Epoch 19/30\n",
      "2005/2005 [==============================] - 3s - loss: 0.2206 - acc: 0.9252 - val_loss: 0.6030 - val_acc: 0.7610\n",
      "Epoch 20/30\n",
      "2005/2005 [==============================] - 3s - loss: 0.2125 - acc: 0.9192 - val_loss: 0.6390 - val_acc: 0.7390\n",
      "Epoch 21/30\n",
      "2005/2005 [==============================] - 3s - loss: 0.2084 - acc: 0.9247 - val_loss: 0.5652 - val_acc: 0.7948\n",
      "Epoch 22/30\n",
      "2005/2005 [==============================] - 3s - loss: 0.1962 - acc: 0.9277 - val_loss: 0.6924 - val_acc: 0.7151\n",
      "Epoch 23/30\n",
      "2005/2005 [==============================] - 3s - loss: 0.1889 - acc: 0.9337 - val_loss: 0.6232 - val_acc: 0.7550\n",
      "Epoch 24/30\n",
      "2005/2005 [==============================] - 3s - loss: 0.1794 - acc: 0.9337 - val_loss: 0.7416 - val_acc: 0.7032\n",
      "Epoch 25/30\n",
      "2005/2005 [==============================] - 3s - loss: 0.1820 - acc: 0.9322 - val_loss: 0.7342 - val_acc: 0.6952\n",
      "Epoch 26/30\n",
      "2005/2005 [==============================] - 3s - loss: 0.1736 - acc: 0.9342 - val_loss: 0.5825 - val_acc: 0.7829\n",
      "Epoch 27/30\n",
      "2005/2005 [==============================] - 3s - loss: 0.1743 - acc: 0.9332 - val_loss: 0.6506 - val_acc: 0.7371\n",
      "Epoch 28/30\n",
      "2005/2005 [==============================] - 3s - loss: 0.1609 - acc: 0.9431 - val_loss: 0.7575 - val_acc: 0.6912\n",
      "Epoch 29/30\n",
      "2005/2005 [==============================] - 3s - loss: 0.1644 - acc: 0.9337 - val_loss: 0.6818 - val_acc: 0.7271\n",
      "Epoch 30/30\n",
      "2005/2005 [==============================] - 3s - loss: 0.1539 - acc: 0.9431 - val_loss: 0.6945 - val_acc: 0.7211\n",
      "Max val_acc: 0.8247011823958135 (step: 5)\n"
     ]
    }
   ],
   "source": [
    "reload(polarity)\n",
    "pd = polarity.PD(w2v, acd_)\n",
    "pd.train_pd_keras(data)"
   ]
  },
  {
   "cell_type": "code",
   "execution_count": 6,
   "metadata": {
    "collapsed": false
   },
   "outputs": [],
   "source": [
    "# from sklearn.svm import SVC\n",
    "\n",
    "# x_train_flat = x_train.reshape(len(x_train), pd.max_sentence_len * 300)\n",
    "# x_test_flat = x_test.reshape(len(x_test), pd.max_sentence_len * 300)\n",
    "\n",
    "# clf = SVC(kernel='rbf', C=15, random_state=1, probability=True)\n",
    "# clf.fit(x_train_flat, y_train)\n",
    "# predictions = clf.predict_proba(x_test_flat)\n",
    "# pd.calc_accuracy(y_test, predictions, clf.classes_)"
   ]
  }
 ],
 "metadata": {
  "kernelspec": {
   "display_name": "absa",
   "language": "python",
   "name": "absa"
  },
  "language_info": {
   "codemirror_mode": {
    "name": "ipython",
    "version": 3
   },
   "file_extension": ".py",
   "mimetype": "text/x-python",
   "name": "python",
   "nbconvert_exporter": "python",
   "pygments_lexer": "ipython3",
   "version": "3.6.0"
  }
 },
 "nbformat": 4,
 "nbformat_minor": 0
}
