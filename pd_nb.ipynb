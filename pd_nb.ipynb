{
 "cells": [
  {
   "cell_type": "code",
   "execution_count": 1,
   "metadata": {
    "collapsed": false
   },
   "outputs": [
    {
     "name": "stderr",
     "output_type": "stream",
     "text": [
      "C:\\Users\\Alekseyl\\Envs\\absa\\lib\\site-packages\\gensim\\utils.py:855: UserWarning: detected Windows; aliasing chunkize to chunkize_serial\n",
      "  warnings.warn(\"detected Windows; aliasing chunkize to chunkize_serial\")\n"
     ]
    }
   ],
   "source": [
    "%matplotlib inline\n",
    "from importlib import reload\n",
    "from utils import *\n",
    "import test\n",
    "import polarity\n",
    "import acd"
   ]
  },
  {
   "cell_type": "code",
   "execution_count": 2,
   "metadata": {
    "collapsed": false
   },
   "outputs": [
    {
     "name": "stdout",
     "output_type": "stream",
     "text": [
      "Loading real w2v...\n",
      "Done\n"
     ]
    }
   ],
   "source": [
    "w2v = load_w2v()"
   ]
  },
  {
   "cell_type": "code",
   "execution_count": 3,
   "metadata": {
    "collapsed": false
   },
   "outputs": [
    {
     "name": "stdout",
     "output_type": "stream",
     "text": [
      "-- ACD:\n",
      "Loading tokenizer...\n",
      "Loading stemmer...\n",
      "Loading dataset...\n",
      "Training...\n",
      "Evaluating...\n",
      "F1: {'f1': 0.6102292768959435, 'precision': 0.6577946768060836, 'recall': 0.569078947368421, 'tp': 346, 'fp': 180, 'fn': 262}\n"
     ]
    }
   ],
   "source": [
    "reload(acd)\n",
    "acd_ = acd.ACD(w2v)\n",
    "acd_.train_acd()"
   ]
  },
  {
   "cell_type": "code",
   "execution_count": 13,
   "metadata": {
    "collapsed": false
   },
   "outputs": [
    {
     "name": "stdout",
     "output_type": "stream",
     "text": [
      "-- PD:\n",
      "Loading tokenizer...\n",
      "Loading stemmer...\n",
      "Loading dataset...\n",
      "get_pd_ds progress: 0/2039\n",
      "get_pd_ds progress: 100/2039\n",
      "get_pd_ds progress: 200/2039\n",
      "get_pd_ds progress: 300/2039\n",
      "get_pd_ds progress: 400/2039\n",
      "get_pd_ds progress: 500/2039\n",
      "get_pd_ds progress: 600/2039\n",
      "get_pd_ds progress: 700/2039\n",
      "get_pd_ds progress: 800/2039\n",
      "get_pd_ds progress: 900/2039\n",
      "get_pd_ds progress: 1000/2039\n",
      "get_pd_ds progress: 1100/2039\n",
      "get_pd_ds progress: 1200/2039\n",
      "get_pd_ds progress: 1300/2039\n",
      "get_pd_ds progress: 1400/2039\n",
      "get_pd_ds progress: 1500/2039\n",
      "get_pd_ds progress: 1600/2039\n",
      "get_pd_ds progress: 1700/2039\n",
      "get_pd_ds progress: 1800/2039\n",
      "get_pd_ds progress: 1900/2039\n",
      "get_pd_ds progress: 2000/2039\n",
      "SVC(C=1)\n",
      "  Training...\n",
      "  Evaluating...\n",
      "  F1: 0.5395189003436426\n",
      "  Accuracy: 0.5395189003436426\n",
      "SVC(C=2)\n",
      "  Training...\n",
      "  Evaluating...\n",
      "  F1: 0.5395189003436426\n",
      "  Accuracy: 0.5395189003436426\n",
      "SVC(C=5)\n",
      "  Training...\n",
      "  Evaluating...\n",
      "  F1: 0.6030927835051546\n",
      "  Accuracy: 0.6030927835051546\n",
      "SVC(C=7)\n",
      "  Training...\n",
      "  Evaluating...\n",
      "  F1: 0.6323024054982818\n",
      "  Accuracy: 0.6323024054982818\n",
      "SVC(C=10)\n",
      "  Training...\n",
      "  Evaluating...\n",
      "  F1: 0.6615120274914089\n",
      "  Accuracy: 0.6615120274914089\n",
      "SVC(C=13)\n",
      "  Training...\n",
      "  Evaluating...\n",
      "  F1: 0.6872852233676976\n",
      "  Accuracy: 0.6872852233676976\n",
      "SVC(C=15)\n",
      "  Training...\n",
      "  Evaluating...\n",
      "  F1: 0.6890034364261168\n",
      "  Accuracy: 0.6890034364261168\n",
      "SVC(C=17)\n",
      "  Training...\n",
      "  Evaluating...\n",
      "  F1: 0.6993127147766323\n",
      "  Accuracy: 0.6993127147766323\n",
      "SVC(C=20)\n",
      "  Training...\n",
      "  Evaluating...\n",
      "  F1: 0.7027491408934707\n",
      "  Accuracy: 0.7027491408934707\n",
      "SVC(C=23)\n",
      "  Training...\n",
      "  Evaluating...\n",
      "  F1: 0.7044673539518901\n",
      "  Accuracy: 0.7044673539518901\n",
      "SVC(C=25)\n",
      "  Training...\n",
      "  Evaluating...\n",
      "  F1: 0.7044673539518901\n",
      "  Accuracy: 0.7044673539518901\n",
      "SVC(C=30)\n",
      "  Training...\n",
      "  Evaluating...\n",
      "  F1: 0.7147766323024055\n",
      "  Accuracy: 0.7147766323024055\n",
      "SVC(C=25)\n",
      "  Training...\n",
      "  Evaluating...\n",
      "  F1: 0.7044673539518901\n",
      "  Accuracy: 0.7044673539518901\n",
      "SVC(C=40)\n",
      "  Training...\n",
      "  Evaluating...\n",
      "  F1: 0.7216494845360826\n",
      "  Accuracy: 0.7216494845360825\n",
      "SVC(C=45)\n",
      "  Training...\n",
      "  Evaluating...\n",
      "  F1: 0.7199312714776632\n",
      "  Accuracy: 0.7199312714776632\n",
      "SVC(C=50)\n",
      "  Training...\n",
      "  Evaluating...\n",
      "  F1: 0.7199312714776632\n",
      "  Accuracy: 0.7199312714776632\n"
     ]
    }
   ],
   "source": [
    "reload(polarity)\n",
    "pd = polarity.PD(w2v, acd_)\n",
    "pd.train_pd()"
   ]
  }
 ],
 "metadata": {
  "kernelspec": {
   "display_name": "absa",
   "language": "python",
   "name": "absa"
  },
  "language_info": {
   "codemirror_mode": {
    "name": "ipython",
    "version": 3
   },
   "file_extension": ".py",
   "mimetype": "text/x-python",
   "name": "python",
   "nbconvert_exporter": "python",
   "pygments_lexer": "ipython3",
   "version": "3.6.0"
  }
 },
 "nbformat": 4,
 "nbformat_minor": 0
}
