{
 "cells": [
  {
   "cell_type": "code",
   "execution_count": 1,
   "metadata": {
    "collapsed": false
   },
   "outputs": [
    {
     "name": "stderr",
     "output_type": "stream",
     "text": [
      "C:\\Users\\Alekseyl\\Envs\\absa\\lib\\site-packages\\gensim\\utils.py:855: UserWarning: detected Windows; aliasing chunkize to chunkize_serial\n",
      "  warnings.warn(\"detected Windows; aliasing chunkize to chunkize_serial\")\n",
      "Using TensorFlow backend.\n"
     ]
    }
   ],
   "source": [
    "from importlib import reload\n",
    "from utils import *\n",
    "import test\n",
    "import polarity\n",
    "import acd"
   ]
  },
  {
   "cell_type": "code",
   "execution_count": 2,
   "metadata": {
    "collapsed": false
   },
   "outputs": [
    {
     "name": "stdout",
     "output_type": "stream",
     "text": [
      "Loading real w2v...\n",
      "Done\n"
     ]
    }
   ],
   "source": [
    "w2v = load_w2v()"
   ]
  },
  {
   "cell_type": "code",
   "execution_count": 3,
   "metadata": {
    "collapsed": false
   },
   "outputs": [
    {
     "name": "stdout",
     "output_type": "stream",
     "text": [
      "-- ACD:\n",
      "Loading tokenizer...\n",
      "Loading stemmer...\n",
      "Loading dataset...\n",
      "Training...\n",
      "Evaluating...\n",
      "F1: {'f1': 0.6904231625835189, 'precision': 0.7029478458049887, 'recall': 0.6783369803063457, 'tp': 310, 'fp': 131, 'fn': 147}\n"
     ]
    },
    {
     "name": "stderr",
     "output_type": "stream",
     "text": [
      "C:\\Users\\Alekseyl\\Envs\\absa\\lib\\site-packages\\sklearn\\neural_network\\multilayer_perceptron.py:563: ConvergenceWarning: Stochastic Optimizer: Maximum iterations reached and the optimization hasn't converged yet.\n",
      "  % (), ConvergenceWarning)\n"
     ]
    }
   ],
   "source": [
    "reload(acd)\n",
    "acd_ = acd.ACD(w2v)\n",
    "acd_.train_acd()"
   ]
  },
  {
   "cell_type": "code",
   "execution_count": 9,
   "metadata": {
    "collapsed": false,
    "scrolled": false
   },
   "outputs": [
    {
     "name": "stdout",
     "output_type": "stream",
     "text": [
      "-- PD:\n",
      "Loading tokenizer...\n",
      "Loading stemmer...\n",
      "Loading parser...\n",
      "Loading dataset...\n",
      "Core NLP Parser preprocessing result pickled\n",
      "get_pd_ds progress: 0/1708\n",
      "get_pd_ds progress: 100/1708\n",
      "get_pd_ds progress: 200/1708\n",
      "get_pd_ds progress: 300/1708\n",
      "get_pd_ds progress: 400/1708\n",
      "get_pd_ds progress: 500/1708\n",
      "get_pd_ds progress: 600/1708\n",
      "get_pd_ds progress: 700/1708\n",
      "get_pd_ds progress: 800/1708\n",
      "get_pd_ds progress: 900/1708\n",
      "get_pd_ds progress: 1000/1708\n",
      "get_pd_ds progress: 1100/1708\n",
      "get_pd_ds progress: 1200/1708\n",
      "get_pd_ds progress: 1300/1708\n",
      "get_pd_ds progress: 1400/1708\n",
      "get_pd_ds progress: 1500/1708\n",
      "get_pd_ds progress: 1600/1708\n",
      "get_pd_ds progress: 1700/1708\n"
     ]
    }
   ],
   "source": [
    "reload(polarity)\n",
    "pd = polarity.PD(w2v, acd_)\n",
    "data = pd.prepare_data(pd.get_pd_features_map_linear_distance, False)"
   ]
  },
  {
   "cell_type": "code",
   "execution_count": 10,
   "metadata": {
    "collapsed": false,
    "scrolled": false
   },
   "outputs": [
    {
     "name": "stdout",
     "output_type": "stream",
     "text": [
      "Train on 2005 samples, validate on 502 samples\n",
      "Epoch 1/10\n",
      "2005/2005 [==============================] - 4s - loss: 0.7519 - acc: 0.7117 - val_loss: 0.9459 - val_acc: 0.4243\n",
      "Epoch 2/10\n",
      "2005/2005 [==============================] - 3s - loss: 0.6032 - acc: 0.7277 - val_loss: 0.7988 - val_acc: 0.5199\n",
      "Epoch 3/10\n",
      "2005/2005 [==============================] - 3s - loss: 0.5269 - acc: 0.7825 - val_loss: 0.8481 - val_acc: 0.5100\n",
      "Epoch 4/10\n",
      "2005/2005 [==============================] - 3s - loss: 0.4687 - acc: 0.8214 - val_loss: 0.7770 - val_acc: 0.6016\n",
      "Epoch 5/10\n",
      "2005/2005 [==============================] - 3s - loss: 0.4211 - acc: 0.8489 - val_loss: 0.6530 - val_acc: 0.7211\n",
      "Epoch 6/10\n",
      "2005/2005 [==============================] - 3s - loss: 0.3852 - acc: 0.8594 - val_loss: 0.5806 - val_acc: 0.8008\n",
      "Epoch 7/10\n",
      "2005/2005 [==============================] - 3s - loss: 0.3623 - acc: 0.8708 - val_loss: 0.6258 - val_acc: 0.7470\n",
      "Epoch 8/10\n",
      "2005/2005 [==============================] - 3s - loss: 0.3369 - acc: 0.8788 - val_loss: 0.8439 - val_acc: 0.5916\n",
      "Epoch 9/10\n",
      "2005/2005 [==============================] - 3s - loss: 0.3149 - acc: 0.8903 - val_loss: 0.6905 - val_acc: 0.6853\n",
      "Epoch 10/10\n",
      "2005/2005 [==============================] - 3s - loss: 0.2949 - acc: 0.8928 - val_loss: 0.6946 - val_acc: 0.6912\n",
      "Max val_acc: 0.8007968127490039 (epoch: 6)\n"
     ]
    }
   ],
   "source": [
    "reload(polarity)\n",
    "pd = polarity.PD(w2v, acd_)\n",
    "pd.train_pd_keras(data)"
   ]
  },
  {
   "cell_type": "code",
   "execution_count": 6,
   "metadata": {
    "collapsed": false
   },
   "outputs": [],
   "source": [
    "# from sklearn.svm import SVC\n",
    "\n",
    "# x_train_flat = x_train.reshape(len(x_train), pd.max_sentence_len * 300)\n",
    "# x_test_flat = x_test.reshape(len(x_test), pd.max_sentence_len * 300)\n",
    "\n",
    "# clf = SVC(kernel='rbf', C=15, random_state=1, probability=True)\n",
    "# clf.fit(x_train_flat, y_train)\n",
    "# predictions = clf.predict_proba(x_test_flat)\n",
    "# pd.calc_accuracy(y_test, predictions, clf.classes_)"
   ]
  }
 ],
 "metadata": {
  "kernelspec": {
   "display_name": "absa",
   "language": "python",
   "name": "absa"
  },
  "language_info": {
   "codemirror_mode": {
    "name": "ipython",
    "version": 3
   },
   "file_extension": ".py",
   "mimetype": "text/x-python",
   "name": "python",
   "nbconvert_exporter": "python",
   "pygments_lexer": "ipython3",
   "version": "3.6.0"
  }
 },
 "nbformat": 4,
 "nbformat_minor": 0
}
