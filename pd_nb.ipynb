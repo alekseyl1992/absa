{
 "cells": [
  {
   "cell_type": "code",
   "execution_count": 1,
   "metadata": {
    "collapsed": false
   },
   "outputs": [
    {
     "name": "stderr",
     "output_type": "stream",
     "text": [
      "C:\\Users\\Alekseyl\\Envs\\absa\\lib\\site-packages\\gensim\\utils.py:855: UserWarning: detected Windows; aliasing chunkize to chunkize_serial\n",
      "  warnings.warn(\"detected Windows; aliasing chunkize to chunkize_serial\")\n",
      "Using TensorFlow backend.\n"
     ]
    }
   ],
   "source": [
    "from importlib import reload\n",
    "from utils import *\n",
    "import test\n",
    "import polarity\n",
    "import acd"
   ]
  },
  {
   "cell_type": "code",
   "execution_count": 2,
   "metadata": {
    "collapsed": false
   },
   "outputs": [
    {
     "name": "stdout",
     "output_type": "stream",
     "text": [
      "Loading real w2v...\n",
      "Done\n"
     ]
    }
   ],
   "source": [
    "w2v = load_w2v()"
   ]
  },
  {
   "cell_type": "code",
   "execution_count": 3,
   "metadata": {
    "collapsed": false
   },
   "outputs": [
    {
     "name": "stdout",
     "output_type": "stream",
     "text": [
      "-- ACD:\n",
      "Loading tokenizer...\n",
      "Loading stemmer...\n",
      "Loading dataset...\n",
      "Training...\n",
      "Evaluating...\n",
      "F1: {'f1': 0.6904231625835189, 'precision': 0.7029478458049887, 'recall': 0.6783369803063457, 'tp': 310, 'fp': 131, 'fn': 147}\n"
     ]
    },
    {
     "name": "stderr",
     "output_type": "stream",
     "text": [
      "C:\\Users\\Alekseyl\\Envs\\absa\\lib\\site-packages\\sklearn\\neural_network\\multilayer_perceptron.py:563: ConvergenceWarning: Stochastic Optimizer: Maximum iterations reached and the optimization hasn't converged yet.\n",
      "  % (), ConvergenceWarning)\n"
     ]
    }
   ],
   "source": [
    "reload(acd)\n",
    "acd_ = acd.ACD(w2v)\n",
    "acd_.train_acd()"
   ]
  },
  {
   "cell_type": "code",
   "execution_count": 17,
   "metadata": {
    "collapsed": false,
    "scrolled": false
   },
   "outputs": [
    {
     "name": "stdout",
     "output_type": "stream",
     "text": [
      "-- PD:\n",
      "Loading tokenizer...\n",
      "Loading stemmer...\n",
      "Loading parser...\n",
      "Loading dataset...\n",
      "Core NLP Parser preprocessing result pickled\n",
      "get_pd_ds progress: 0/1708\n",
      "get_pd_ds progress: 100/1708\n",
      "get_pd_ds progress: 200/1708\n",
      "get_pd_ds progress: 300/1708\n",
      "get_pd_ds progress: 400/1708\n",
      "get_pd_ds progress: 500/1708\n",
      "get_pd_ds progress: 600/1708\n",
      "get_pd_ds progress: 700/1708\n",
      "get_pd_ds progress: 800/1708\n",
      "get_pd_ds progress: 900/1708\n",
      "get_pd_ds progress: 1000/1708\n",
      "get_pd_ds progress: 1100/1708\n",
      "get_pd_ds progress: 1200/1708\n",
      "get_pd_ds progress: 1300/1708\n",
      "get_pd_ds progress: 1400/1708\n",
      "get_pd_ds progress: 1500/1708\n",
      "get_pd_ds progress: 1600/1708\n",
      "get_pd_ds progress: 1700/1708\n"
     ]
    }
   ],
   "source": [
    "reload(polarity)\n",
    "pd = polarity.PD(w2v, acd_)\n",
    "data = pd.prepare_data(pd.get_pd_features_map_tree_distance, False)"
   ]
  },
  {
   "cell_type": "code",
   "execution_count": null,
   "metadata": {
    "collapsed": false,
    "scrolled": false
   },
   "outputs": [
    {
     "name": "stdout",
     "output_type": "stream",
     "text": [
      "Train on 2005 samples, validate on 502 samples\n",
      "Epoch 1/30\n",
      "2005/2005 [==============================] - 4s - loss: 0.7418 - acc: 0.7127 - val_loss: 0.9381 - val_acc: 0.4243\n",
      "Epoch 2/30\n",
      "2005/2005 [==============================] - 3s - loss: 0.5948 - acc: 0.7322 - val_loss: 0.7716 - val_acc: 0.5677\n",
      "Epoch 3/30\n",
      "2005/2005 [==============================] - 3s - loss: 0.5186 - acc: 0.7890 - val_loss: 0.8402 - val_acc: 0.5120\n",
      "Epoch 4/30\n",
      "2005/2005 [==============================] - 3s - loss: 0.4632 - acc: 0.8279 - val_loss: 0.7815 - val_acc: 0.5956\n",
      "Epoch 5/30\n",
      "2005/2005 [==============================] - 3s - loss: 0.4170 - acc: 0.8549 - val_loss: 0.6387 - val_acc: 0.7331\n",
      "Epoch 6/30\n",
      "2005/2005 [==============================] - 3s - loss: 0.3856 - acc: 0.8564 - val_loss: 0.5668 - val_acc: 0.8267\n",
      "Epoch 7/30\n",
      "2005/2005 [==============================] - 4s - loss: 0.3635 - acc: 0.8643 - val_loss: 0.5971 - val_acc: 0.7769\n",
      "Epoch 8/30\n",
      "2005/2005 [==============================] - 4s - loss: 0.3395 - acc: 0.8833 - val_loss: 0.8384 - val_acc: 0.5916\n",
      "Epoch 9/30\n",
      "2005/2005 [==============================] - 4s - loss: 0.3181 - acc: 0.8893 - val_loss: 0.6801 - val_acc: 0.6773\n",
      "Epoch 10/30\n",
      "2005/2005 [==============================] - 3s - loss: 0.3006 - acc: 0.8953 - val_loss: 0.7120 - val_acc: 0.6554\n",
      "Epoch 11/30\n",
      "2005/2005 [==============================] - 3s - loss: 0.2828 - acc: 0.9032 - val_loss: 0.8890 - val_acc: 0.5976\n",
      "Epoch 12/30\n",
      "2005/2005 [==============================] - 3s - loss: 0.2733 - acc: 0.9007 - val_loss: 0.5763 - val_acc: 0.7869\n",
      "Epoch 13/30\n",
      "2005/2005 [==============================] - 3s - loss: 0.2592 - acc: 0.9022 - val_loss: 0.5909 - val_acc: 0.7749\n",
      "Epoch 14/30\n",
      "2005/2005 [==============================] - 3s - loss: 0.2438 - acc: 0.9172 - val_loss: 0.6716 - val_acc: 0.7072\n",
      "Epoch 15/30\n",
      "2005/2005 [==============================] - 3s - loss: 0.2342 - acc: 0.9132 - val_loss: 0.7206 - val_acc: 0.6793"
     ]
    }
   ],
   "source": [
    "reload(polarity)\n",
    "pd = polarity.PD(w2v, acd_)\n",
    "pd.train_pd_keras(data)"
   ]
  },
  {
   "cell_type": "code",
   "execution_count": 6,
   "metadata": {
    "collapsed": false
   },
   "outputs": [],
   "source": [
    "# from sklearn.svm import SVC\n",
    "\n",
    "# x_train_flat = x_train.reshape(len(x_train), pd.max_sentence_len * 300)\n",
    "# x_test_flat = x_test.reshape(len(x_test), pd.max_sentence_len * 300)\n",
    "\n",
    "# clf = SVC(kernel='rbf', C=15, random_state=1, probability=True)\n",
    "# clf.fit(x_train_flat, y_train)\n",
    "# predictions = clf.predict_proba(x_test_flat)\n",
    "# pd.calc_accuracy(y_test, predictions, clf.classes_)"
   ]
  }
 ],
 "metadata": {
  "kernelspec": {
   "display_name": "absa",
   "language": "python",
   "name": "absa"
  },
  "language_info": {
   "codemirror_mode": {
    "name": "ipython",
    "version": 3
   },
   "file_extension": ".py",
   "mimetype": "text/x-python",
   "name": "python",
   "nbconvert_exporter": "python",
   "pygments_lexer": "ipython3",
   "version": "3.6.0"
  }
 },
 "nbformat": 4,
 "nbformat_minor": 0
}
