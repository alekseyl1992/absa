{
 "cells": [
  {
   "cell_type": "code",
   "execution_count": 1,
   "metadata": {
    "collapsed": false
   },
   "outputs": [
    {
     "name": "stderr",
     "output_type": "stream",
     "text": [
      "C:\\Users\\Alekseyl\\Envs\\absa\\lib\\site-packages\\gensim\\utils.py:855: UserWarning: detected Windows; aliasing chunkize to chunkize_serial\n",
      "  warnings.warn(\"detected Windows; aliasing chunkize to chunkize_serial\")\n",
      "Using TensorFlow backend.\n"
     ]
    }
   ],
   "source": [
    "from importlib import reload\n",
    "from utils import *\n",
    "import test\n",
    "import polarity\n",
    "import acd"
   ]
  },
  {
   "cell_type": "code",
   "execution_count": 2,
   "metadata": {
    "collapsed": false
   },
   "outputs": [
    {
     "name": "stdout",
     "output_type": "stream",
     "text": [
      "Loading real w2v...\n",
      "Done\n"
     ]
    }
   ],
   "source": [
    "w2v = load_w2v()"
   ]
  },
  {
   "cell_type": "code",
   "execution_count": 3,
   "metadata": {
    "collapsed": false
   },
   "outputs": [
    {
     "name": "stdout",
     "output_type": "stream",
     "text": [
      "-- ACD:\n",
      "Loading tokenizer...\n",
      "Loading stemmer...\n",
      "Loading dataset...\n",
      "Training...\n",
      "Evaluating...\n",
      "F1: {'f1': 0.7287917737789202, 'precision': 0.6974169741697417, 'recall': 0.7631224764468372, 'tp': 567, 'fp': 246, 'fn': 176}\n"
     ]
    },
    {
     "name": "stderr",
     "output_type": "stream",
     "text": [
      "C:\\Users\\Alekseyl\\Envs\\absa\\lib\\site-packages\\sklearn\\neural_network\\multilayer_perceptron.py:563: ConvergenceWarning: Stochastic Optimizer: Maximum iterations reached and the optimization hasn't converged yet.\n",
      "  % (), ConvergenceWarning)\n"
     ]
    }
   ],
   "source": [
    "reload(acd)\n",
    "acd_ = acd.ACD(w2v)\n",
    "acd_.train_acd()"
   ]
  },
  {
   "cell_type": "code",
   "execution_count": 4,
   "metadata": {
    "collapsed": false,
    "scrolled": false
   },
   "outputs": [
    {
     "name": "stdout",
     "output_type": "stream",
     "text": [
      "-- PD:\n",
      "Loading tokenizer...\n",
      "Loading stemmer...\n",
      "Loading parser...\n",
      "Loading datasets...\n",
      "Core NLP Parser preprocessing...\n",
      "get_pd_ds progress: 0/1708\n",
      "get_pd_ds progress: 100/1708\n",
      "get_pd_ds progress: 200/1708\n",
      "get_pd_ds progress: 300/1708\n",
      "get_pd_ds progress: 400/1708\n",
      "get_pd_ds progress: 500/1708\n",
      "get_pd_ds progress: 600/1708\n",
      "get_pd_ds progress: 700/1708\n",
      "get_pd_ds progress: 800/1708\n",
      "get_pd_ds progress: 900/1708\n",
      "get_pd_ds progress: 1000/1708\n",
      "get_pd_ds progress: 1100/1708\n",
      "get_pd_ds progress: 1200/1708\n",
      "get_pd_ds progress: 1300/1708\n",
      "get_pd_ds progress: 1400/1708\n",
      "get_pd_ds progress: 1500/1708\n",
      "get_pd_ds progress: 1600/1708\n",
      "get_pd_ds progress: 1700/1708\n",
      "Core NLP Parser preprocessing...\n",
      "get_pd_ds progress: 0/587\n",
      "get_pd_ds progress: 100/587\n",
      "get_pd_ds progress: 200/587\n",
      "get_pd_ds progress: 300/587\n",
      "get_pd_ds progress: 400/587\n",
      "get_pd_ds progress: 500/587\n"
     ]
    }
   ],
   "source": [
    "reload(polarity)\n",
    "pd = polarity.PD(w2v, acd_)\n",
    "data = pd.prepare_data(pd.get_pd_features_map_tree_distance, False)"
   ]
  },
  {
   "cell_type": "code",
   "execution_count": 8,
   "metadata": {
    "collapsed": false,
    "scrolled": false
   },
   "outputs": [
    {
     "name": "stdout",
     "output_type": "stream",
     "text": [
      "Train on 2507 samples, validate on 859 samples\n",
      "Epoch 1/100\n",
      "2507/2507 [==============================] - 5s - loss: 0.7641 - acc: 0.6562 - val_loss: 0.6590 - val_acc: 0.7672\n",
      "Epoch 2/100\n",
      "2507/2507 [==============================] - 4s - loss: 0.5960 - acc: 0.7595 - val_loss: 0.5829 - val_acc: 0.7299\n",
      "Epoch 3/100\n",
      "2507/2507 [==============================] - 4s - loss: 0.5129 - acc: 0.8085 - val_loss: 0.5429 - val_acc: 0.8091\n",
      "Epoch 4/100\n",
      "2507/2507 [==============================] - 4s - loss: 0.4588 - acc: 0.8389 - val_loss: 0.5096 - val_acc: 0.8126\n",
      "Epoch 5/100\n",
      "2507/2507 [==============================] - 4s - loss: 0.4208 - acc: 0.8524 - val_loss: 0.4963 - val_acc: 0.8207\n",
      "Epoch 6/100\n",
      "2507/2507 [==============================] - 5s - loss: 0.3885 - acc: 0.8680 - val_loss: 0.4871 - val_acc: 0.8207\n",
      "Epoch 7/100\n",
      "2507/2507 [==============================] - 4s - loss: 0.3621 - acc: 0.8759 - val_loss: 0.5247 - val_acc: 0.7986\n",
      "Epoch 8/100\n",
      "2507/2507 [==============================] - 4s - loss: 0.3338 - acc: 0.8863 - val_loss: 0.5045 - val_acc: 0.8126\n",
      "Epoch 9/100\n",
      "2507/2507 [==============================] - 4s - loss: 0.3181 - acc: 0.8867 - val_loss: 0.4755 - val_acc: 0.8102\n",
      "Epoch 10/100\n",
      "2507/2507 [==============================] - 5s - loss: 0.2970 - acc: 0.8931 - val_loss: 0.4698 - val_acc: 0.8312\n",
      "Epoch 11/100\n",
      "2507/2507 [==============================] - 4s - loss: 0.2801 - acc: 0.8987 - val_loss: 0.4758 - val_acc: 0.8265\n",
      "Epoch 12/100\n",
      "2507/2507 [==============================] - 5s - loss: 0.2679 - acc: 0.9055 - val_loss: 0.4647 - val_acc: 0.8347\n",
      "Epoch 13/100\n",
      "2507/2507 [==============================] - 4s - loss: 0.2513 - acc: 0.9079 - val_loss: 0.4641 - val_acc: 0.8347\n",
      "Epoch 14/100\n",
      "2507/2507 [==============================] - 4s - loss: 0.2378 - acc: 0.9134 - val_loss: 0.4678 - val_acc: 0.8324\n",
      "Epoch 15/100\n",
      "2507/2507 [==============================] - 4s - loss: 0.2240 - acc: 0.9210 - val_loss: 0.4612 - val_acc: 0.8370\n",
      "Epoch 16/100\n",
      "2507/2507 [==============================] - 4s - loss: 0.2159 - acc: 0.9226 - val_loss: 0.4559 - val_acc: 0.8370\n",
      "Epoch 17/100\n",
      "2507/2507 [==============================] - 4s - loss: 0.2025 - acc: 0.9290 - val_loss: 0.4679 - val_acc: 0.8382\n",
      "Epoch 18/100\n",
      "2507/2507 [==============================] - 5s - loss: 0.1915 - acc: 0.9338 - val_loss: 0.4616 - val_acc: 0.8370\n",
      "Epoch 19/100\n",
      "2507/2507 [==============================] - 5s - loss: 0.1871 - acc: 0.9374 - val_loss: 0.4873 - val_acc: 0.8335\n",
      "Epoch 20/100\n",
      "2507/2507 [==============================] - 4s - loss: 0.1818 - acc: 0.9282 - val_loss: 0.4713 - val_acc: 0.8324\n",
      "Epoch 21/100\n",
      "2507/2507 [==============================] - 4s - loss: 0.1685 - acc: 0.9422 - val_loss: 0.4594 - val_acc: 0.8405\n",
      "Epoch 22/100\n",
      "2507/2507 [==============================] - 4s - loss: 0.1657 - acc: 0.9390 - val_loss: 0.4798 - val_acc: 0.8370\n",
      "Epoch 23/100\n",
      "2507/2507 [==============================] - 5s - loss: 0.1632 - acc: 0.9410 - val_loss: 0.5318 - val_acc: 0.8161\n",
      "Epoch 24/100\n",
      "2507/2507 [==============================] - 5s - loss: 0.1540 - acc: 0.9422 - val_loss: 0.4844 - val_acc: 0.8370\n",
      "Epoch 25/100\n",
      "2507/2507 [==============================] - 6s - loss: 0.1503 - acc: 0.9462 - val_loss: 0.4810 - val_acc: 0.8359\n",
      "Epoch 26/100\n",
      "2507/2507 [==============================] - 6s - loss: 0.1447 - acc: 0.9473 - val_loss: 0.4825 - val_acc: 0.8347\n",
      "Epoch 27/100\n",
      "2507/2507 [==============================] - 6s - loss: 0.1350 - acc: 0.9525 - val_loss: 0.4879 - val_acc: 0.8359\n",
      "Epoch 28/100\n",
      "2507/2507 [==============================] - 6s - loss: 0.1339 - acc: 0.9489 - val_loss: 0.5167 - val_acc: 0.8300\n",
      "Epoch 29/100\n",
      "2507/2507 [==============================] - 6s - loss: 0.1331 - acc: 0.9505 - val_loss: 0.4986 - val_acc: 0.8417\n",
      "Epoch 30/100\n",
      "2507/2507 [==============================] - 6s - loss: 0.1295 - acc: 0.9529 - val_loss: 0.4817 - val_acc: 0.8370\n",
      "Epoch 31/100\n",
      "2507/2507 [==============================] - 6s - loss: 0.1243 - acc: 0.9521 - val_loss: 0.5099 - val_acc: 0.8242\n",
      "Epoch 32/100\n",
      "2507/2507 [==============================] - 6s - loss: 0.1183 - acc: 0.9561 - val_loss: 0.5007 - val_acc: 0.8300\n",
      "Epoch 33/100\n",
      "2507/2507 [==============================] - 6s - loss: 0.1192 - acc: 0.9521 - val_loss: 0.5208 - val_acc: 0.8347\n",
      "Epoch 34/100\n",
      "2507/2507 [==============================] - 6s - loss: 0.1176 - acc: 0.9533 - val_loss: 0.5028 - val_acc: 0.8347\n",
      "Epoch 35/100\n",
      "2507/2507 [==============================] - 6s - loss: 0.1175 - acc: 0.9525 - val_loss: 0.5125 - val_acc: 0.8370\n",
      "Epoch 36/100\n",
      "2507/2507 [==============================] - 6s - loss: 0.1197 - acc: 0.9505 - val_loss: 0.5076 - val_acc: 0.8428\n",
      "Epoch 37/100\n",
      "2507/2507 [==============================] - 5s - loss: 0.1131 - acc: 0.9553 - val_loss: 0.4971 - val_acc: 0.8440\n",
      "Epoch 38/100\n",
      "2507/2507 [==============================] - 6s - loss: 0.1092 - acc: 0.9569 - val_loss: 0.4953 - val_acc: 0.8428\n",
      "Epoch 39/100\n",
      "2507/2507 [==============================] - 6s - loss: 0.1108 - acc: 0.9609 - val_loss: 0.5018 - val_acc: 0.8405\n",
      "Epoch 40/100\n",
      "2507/2507 [==============================] - 6s - loss: 0.0998 - acc: 0.9561 - val_loss: 0.5225 - val_acc: 0.8393\n",
      "Epoch 41/100\n",
      "2507/2507 [==============================] - 5s - loss: 0.1032 - acc: 0.9609 - val_loss: 0.5174 - val_acc: 0.8370\n",
      "Epoch 42/100\n",
      "2507/2507 [==============================] - 5s - loss: 0.1030 - acc: 0.9601 - val_loss: 0.5296 - val_acc: 0.8405\n",
      "Epoch 43/100\n",
      "2507/2507 [==============================] - 6s - loss: 0.1005 - acc: 0.9601 - val_loss: 0.5263 - val_acc: 0.8289\n",
      "Epoch 44/100\n",
      "2507/2507 [==============================] - 6s - loss: 0.0993 - acc: 0.9585 - val_loss: 0.5224 - val_acc: 0.8428\n",
      "Epoch 45/100\n",
      "2507/2507 [==============================] - 6s - loss: 0.0961 - acc: 0.9581 - val_loss: 0.5118 - val_acc: 0.8359\n",
      "Epoch 46/100\n",
      "2507/2507 [==============================] - 6s - loss: 0.0975 - acc: 0.9593 - val_loss: 0.6382 - val_acc: 0.8021\n",
      "Epoch 47/100\n",
      "2507/2507 [==============================] - 6s - loss: 0.0945 - acc: 0.9633 - val_loss: 0.5971 - val_acc: 0.8161\n",
      "Epoch 48/100\n",
      "2507/2507 [==============================] - 6s - loss: 0.0950 - acc: 0.9613 - val_loss: 0.5348 - val_acc: 0.8324\n",
      "Epoch 49/100\n",
      "2507/2507 [==============================] - 6s - loss: 0.0943 - acc: 0.9617 - val_loss: 0.6105 - val_acc: 0.8161\n",
      "Epoch 50/100\n",
      "2507/2507 [==============================] - 6s - loss: 0.0967 - acc: 0.9589 - val_loss: 0.5412 - val_acc: 0.8370\n",
      "Epoch 51/100\n",
      "2507/2507 [==============================] - 6s - loss: 0.0960 - acc: 0.9589 - val_loss: 0.5143 - val_acc: 0.8428\n",
      "Epoch 52/100\n",
      "2507/2507 [==============================] - 5s - loss: 0.0925 - acc: 0.9633 - val_loss: 0.5555 - val_acc: 0.8393\n",
      "Epoch 53/100\n",
      "2507/2507 [==============================] - 5s - loss: 0.0939 - acc: 0.9589 - val_loss: 0.5263 - val_acc: 0.8393\n",
      "Epoch 54/100\n",
      "2507/2507 [==============================] - 6s - loss: 0.0951 - acc: 0.9597 - val_loss: 0.5229 - val_acc: 0.8393\n",
      "Epoch 55/100\n",
      "2507/2507 [==============================] - 5s - loss: 0.0892 - acc: 0.9617 - val_loss: 0.5402 - val_acc: 0.8393\n",
      "Epoch 56/100\n",
      "2507/2507 [==============================] - 5s - loss: 0.0883 - acc: 0.9629 - val_loss: 0.5608 - val_acc: 0.8300\n",
      "Epoch 57/100\n",
      "2507/2507 [==============================] - 5s - loss: 0.0892 - acc: 0.9609 - val_loss: 0.5602 - val_acc: 0.8393\n",
      "Epoch 58/100\n",
      "2507/2507 [==============================] - 5s - loss: 0.0889 - acc: 0.9585 - val_loss: 0.5362 - val_acc: 0.8417\n",
      "Epoch 59/100\n",
      "2507/2507 [==============================] - 5s - loss: 0.0861 - acc: 0.9633 - val_loss: 0.5329 - val_acc: 0.8440\n",
      "Epoch 60/100\n",
      "2507/2507 [==============================] - 5s - loss: 0.0914 - acc: 0.9573 - val_loss: 0.5420 - val_acc: 0.8359\n",
      "Epoch 61/100\n",
      "2507/2507 [==============================] - 5s - loss: 0.0872 - acc: 0.9637 - val_loss: 0.6049 - val_acc: 0.8335\n",
      "Epoch 62/100\n",
      "2507/2507 [==============================] - 5s - loss: 0.0868 - acc: 0.9597 - val_loss: 0.5489 - val_acc: 0.8382\n",
      "Epoch 63/100\n",
      "2507/2507 [==============================] - 5s - loss: 0.0856 - acc: 0.9633 - val_loss: 0.5591 - val_acc: 0.8393\n",
      "Epoch 64/100\n",
      "2507/2507 [==============================] - 5s - loss: 0.0852 - acc: 0.9621 - val_loss: 0.5393 - val_acc: 0.8370\n",
      "Epoch 65/100\n",
      "2507/2507 [==============================] - 5s - loss: 0.0892 - acc: 0.9601 - val_loss: 0.5569 - val_acc: 0.8428\n",
      "Epoch 66/100\n",
      "2507/2507 [==============================] - 5s - loss: 0.0873 - acc: 0.9617 - val_loss: 0.5956 - val_acc: 0.8393\n",
      "Epoch 67/100\n",
      "2507/2507 [==============================] - 5s - loss: 0.0794 - acc: 0.9633 - val_loss: 0.5586 - val_acc: 0.8382\n",
      "Epoch 68/100\n",
      "2507/2507 [==============================] - 5s - loss: 0.0855 - acc: 0.9605 - val_loss: 0.5912 - val_acc: 0.8428\n",
      "Epoch 69/100\n",
      "2507/2507 [==============================] - 5s - loss: 0.0762 - acc: 0.9673 - val_loss: 0.5602 - val_acc: 0.8428\n",
      "Epoch 70/100\n",
      "2507/2507 [==============================] - 5s - loss: 0.0835 - acc: 0.9597 - val_loss: 0.5744 - val_acc: 0.8452\n",
      "Epoch 71/100\n",
      "2507/2507 [==============================] - 5s - loss: 0.0860 - acc: 0.9641 - val_loss: 0.5738 - val_acc: 0.8370\n",
      "Epoch 72/100\n",
      "2507/2507 [==============================] - 5s - loss: 0.0848 - acc: 0.9605 - val_loss: 0.5646 - val_acc: 0.8417\n",
      "Epoch 73/100\n",
      "2507/2507 [==============================] - 5s - loss: 0.0834 - acc: 0.9625 - val_loss: 0.5809 - val_acc: 0.8428\n",
      "Epoch 74/100\n",
      "2507/2507 [==============================] - 5s - loss: 0.0826 - acc: 0.9613 - val_loss: 0.5780 - val_acc: 0.8382\n",
      "Epoch 75/100\n",
      "2507/2507 [==============================] - 5s - loss: 0.0868 - acc: 0.9633 - val_loss: 0.5621 - val_acc: 0.8417\n",
      "Epoch 76/100\n",
      "2507/2507 [==============================] - 5s - loss: 0.0834 - acc: 0.9613 - val_loss: 0.5679 - val_acc: 0.8393\n",
      "Epoch 77/100\n",
      "2507/2507 [==============================] - 5s - loss: 0.0779 - acc: 0.9661 - val_loss: 0.5844 - val_acc: 0.8405\n",
      "Epoch 78/100\n",
      "2507/2507 [==============================] - 5s - loss: 0.0729 - acc: 0.9657 - val_loss: 0.5808 - val_acc: 0.8393\n",
      "Epoch 79/100\n",
      "2507/2507 [==============================] - 5s - loss: 0.0784 - acc: 0.9641 - val_loss: 0.5795 - val_acc: 0.8440\n",
      "Epoch 80/100\n",
      "2507/2507 [==============================] - 5s - loss: 0.0826 - acc: 0.9597 - val_loss: 0.6064 - val_acc: 0.8428\n",
      "Epoch 81/100\n",
      "2507/2507 [==============================] - 5s - loss: 0.0798 - acc: 0.9633 - val_loss: 0.5951 - val_acc: 0.8440\n",
      "Epoch 82/100\n",
      "2507/2507 [==============================] - 5s - loss: 0.0834 - acc: 0.9629 - val_loss: 0.5797 - val_acc: 0.8359\n",
      "Epoch 83/100\n",
      "2507/2507 [==============================] - 5s - loss: 0.0833 - acc: 0.9601 - val_loss: 0.5830 - val_acc: 0.8382\n",
      "Epoch 84/100\n",
      "2507/2507 [==============================] - 5s - loss: 0.0704 - acc: 0.9669 - val_loss: 0.5664 - val_acc: 0.8405\n",
      "Epoch 85/100\n",
      "2507/2507 [==============================] - 5s - loss: 0.0852 - acc: 0.9597 - val_loss: 0.6058 - val_acc: 0.8417\n",
      "Epoch 86/100\n",
      "2507/2507 [==============================] - 5s - loss: 0.0794 - acc: 0.9605 - val_loss: 0.5963 - val_acc: 0.8417\n",
      "Epoch 87/100\n",
      "2507/2507 [==============================] - 5s - loss: 0.0804 - acc: 0.9621 - val_loss: 0.5829 - val_acc: 0.8440\n",
      "Epoch 88/100\n",
      "2507/2507 [==============================] - 5s - loss: 0.0764 - acc: 0.9681 - val_loss: 0.5931 - val_acc: 0.8370\n",
      "Epoch 89/100\n",
      "2507/2507 [==============================] - 5s - loss: 0.0766 - acc: 0.9661 - val_loss: 0.6334 - val_acc: 0.8382\n",
      "Epoch 90/100\n",
      "2507/2507 [==============================] - 5s - loss: 0.0750 - acc: 0.9665 - val_loss: 0.6004 - val_acc: 0.8347\n",
      "Epoch 91/100\n",
      "2507/2507 [==============================] - 5s - loss: 0.0757 - acc: 0.9653 - val_loss: 0.6091 - val_acc: 0.8417\n",
      "Epoch 92/100\n",
      "2507/2507 [==============================] - 5s - loss: 0.0761 - acc: 0.9665 - val_loss: 0.6264 - val_acc: 0.8393\n",
      "Epoch 93/100\n",
      "2507/2507 [==============================] - 5s - loss: 0.0796 - acc: 0.9637 - val_loss: 0.5862 - val_acc: 0.8452\n",
      "Epoch 94/100\n",
      "2507/2507 [==============================] - 5s - loss: 0.0757 - acc: 0.9673 - val_loss: 0.6201 - val_acc: 0.8393\n",
      "Epoch 95/100\n",
      "2507/2507 [==============================] - 5s - loss: 0.0764 - acc: 0.9645 - val_loss: 0.6528 - val_acc: 0.8370\n",
      "Epoch 96/100\n",
      "2507/2507 [==============================] - 5s - loss: 0.0709 - acc: 0.9681 - val_loss: 0.5915 - val_acc: 0.8393\n",
      "Epoch 97/100\n",
      "2507/2507 [==============================] - 5s - loss: 0.0755 - acc: 0.9641 - val_loss: 0.6296 - val_acc: 0.8393\n",
      "Epoch 98/100\n",
      "2507/2507 [==============================] - 5s - loss: 0.0778 - acc: 0.9621 - val_loss: 0.6208 - val_acc: 0.8370\n",
      "Epoch 99/100\n",
      "2507/2507 [==============================] - 5s - loss: 0.0780 - acc: 0.9601 - val_loss: 0.6364 - val_acc: 0.8335\n",
      "Epoch 100/100\n",
      "2507/2507 [==============================] - 5s - loss: 0.0757 - acc: 0.9629 - val_loss: 0.6124 - val_acc: 0.8382\n",
      "Max val_acc: 0.8451688007925386 (epoch: 70)\n"
     ]
    }
   ],
   "source": [
    "reload(polarity)\n",
    "pd = polarity.PD(w2v, acd_)\n",
    "pd.train_pd_keras(data)"
   ]
  },
  {
   "cell_type": "code",
   "execution_count": 6,
   "metadata": {
    "collapsed": false
   },
   "outputs": [],
   "source": [
    "# from sklearn.svm import SVC\n",
    "\n",
    "# x_train_flat = x_train.reshape(len(x_train), pd.max_sentence_len * 300)\n",
    "# x_test_flat = x_test.reshape(len(x_test), pd.max_sentence_len * 300)\n",
    "\n",
    "# clf = SVC(kernel='rbf', C=15, random_state=1, probability=True)\n",
    "# clf.fit(x_train_flat, y_train)\n",
    "# predictions = clf.predict_proba(x_test_flat)\n",
    "# pd.calc_accuracy(y_test, predictions, clf.classes_)"
   ]
  }
 ],
 "metadata": {
  "kernelspec": {
   "display_name": "absa",
   "language": "python",
   "name": "absa"
  },
  "language_info": {
   "codemirror_mode": {
    "name": "ipython",
    "version": 3
   },
   "file_extension": ".py",
   "mimetype": "text/x-python",
   "name": "python",
   "nbconvert_exporter": "python",
   "pygments_lexer": "ipython3",
   "version": "3.6.0"
  }
 },
 "nbformat": 4,
 "nbformat_minor": 0
}
