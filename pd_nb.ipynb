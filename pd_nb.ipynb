{
 "cells": [
  {
   "cell_type": "code",
   "execution_count": 1,
   "metadata": {
    "collapsed": false
   },
   "outputs": [
    {
     "name": "stderr",
     "output_type": "stream",
     "text": [
      "C:\\Users\\Alekseyl\\Envs\\absa\\lib\\site-packages\\gensim\\utils.py:855: UserWarning: detected Windows; aliasing chunkize to chunkize_serial\n",
      "  warnings.warn(\"detected Windows; aliasing chunkize to chunkize_serial\")\n"
     ]
    }
   ],
   "source": [
    "%matplotlib inline\n",
    "from importlib import reload\n",
    "from utils import *\n",
    "import test\n",
    "import polarity\n",
    "import acd"
   ]
  },
  {
   "cell_type": "code",
   "execution_count": 2,
   "metadata": {
    "collapsed": false
   },
   "outputs": [
    {
     "name": "stdout",
     "output_type": "stream",
     "text": [
      "Loading real w2v...\n",
      "Done\n"
     ]
    }
   ],
   "source": [
    "w2v = load_w2v()"
   ]
  },
  {
   "cell_type": "code",
   "execution_count": 3,
   "metadata": {
    "collapsed": false
   },
   "outputs": [
    {
     "name": "stdout",
     "output_type": "stream",
     "text": [
      "-- ACD:\n",
      "Loading tokenizer...\n",
      "Loading stemmer...\n",
      "Loading dataset...\n",
      "Training...\n",
      "Evaluating...\n",
      "F1: {'f1': 0.6035398230088496, 'precision': 0.6532567049808429, 'recall': 0.5608552631578947, 'tp': 341, 'fp': 181, 'fn': 267}\n"
     ]
    }
   ],
   "source": [
    "reload(acd)\n",
    "acd_ = acd.ACD(w2v)\n",
    "acd_.train_acd()"
   ]
  },
  {
   "cell_type": "code",
   "execution_count": 28,
   "metadata": {
    "collapsed": false
   },
   "outputs": [
    {
     "name": "stdout",
     "output_type": "stream",
     "text": [
      "PD1...\n",
      "-- PD:\n",
      "Loading tokenizer...\n",
      "Loading stemmer...\n",
      "Loading parser...\n",
      "Loading dataset...\n",
      "Core NLP Parser preprocessing result pickled\n",
      "get_pd_ds progress: 0/2039\n",
      "get_pd_ds progress: 100/2039\n",
      "get_pd_ds progress: 200/2039\n",
      "get_pd_ds progress: 300/2039\n",
      "get_pd_ds progress: 400/2039\n",
      "get_pd_ds progress: 500/2039\n",
      "get_pd_ds progress: 600/2039\n",
      "get_pd_ds progress: 700/2039\n",
      "get_pd_ds progress: 800/2039\n",
      "get_pd_ds progress: 900/2039\n",
      "get_pd_ds progress: 1000/2039\n",
      "get_pd_ds progress: 1100/2039\n",
      "get_pd_ds progress: 1200/2039\n",
      "get_pd_ds progress: 1300/2039\n",
      "get_pd_ds progress: 1400/2039\n",
      "get_pd_ds progress: 1500/2039\n",
      "get_pd_ds progress: 1600/2039\n",
      "get_pd_ds progress: 1700/2039\n",
      "Wifi card not working right out of the box. HARDWARE#OPERATION_PERFORMANCE ['Wifi card not working right out of the box.', 'card not working right out of the box', 'not working right out of the box', 'working right out of the box', 'out of the box', 'Wifi card not working right out of the box.', 'Wifi card not working right out of the box.', 'Wifi card not working right out of the box.']\n",
      "get_pd_ds progress: 1800/2039\n",
      "get_pd_ds progress: 1900/2039\n",
      "Yes, it's running and old type processor so, hey, don't even try gaming on it. CPU#DESIGN_FEATURES [\"Yes, it's running and old type processor so, hey, don't even try gaming on it.\", \"old type processor so, hey, don't even try gaming on it\", 'old type processor so, hey,', 'old type processor so', \"don't even try gaming on it\", 'try gaming on it', \"Yes, it's running and old type processor so, hey, don't even try gaming on it.\"]\n",
      "get_pd_ds progress: 2000/2039\n",
      "PD1 Accuracy: 0.7061855670103093\n",
      "PD2...\n",
      "-- PD:\n",
      "Loading tokenizer...\n",
      "Loading stemmer...\n",
      "Loading parser...\n",
      "Loading dataset...\n",
      "Core NLP Parser preprocessing result pickled\n",
      "get_pd_ds progress: 0/2039\n",
      "get_pd_ds progress: 100/2039\n",
      "get_pd_ds progress: 200/2039\n",
      "get_pd_ds progress: 300/2039\n",
      "get_pd_ds progress: 400/2039\n",
      "get_pd_ds progress: 500/2039\n",
      "get_pd_ds progress: 600/2039\n",
      "get_pd_ds progress: 700/2039\n",
      "get_pd_ds progress: 800/2039\n",
      "get_pd_ds progress: 900/2039\n",
      "get_pd_ds progress: 1000/2039\n",
      "get_pd_ds progress: 1100/2039\n",
      "get_pd_ds progress: 1200/2039\n",
      "get_pd_ds progress: 1300/2039\n",
      "get_pd_ds progress: 1400/2039\n",
      "get_pd_ds progress: 1500/2039\n",
      "get_pd_ds progress: 1600/2039\n",
      "get_pd_ds progress: 1700/2039\n",
      "get_pd_ds progress: 1800/2039\n",
      "get_pd_ds progress: 1900/2039\n",
      "get_pd_ds progress: 2000/2039\n",
      "PD2 Accuracy: 0.7353951890034365\n",
      "Result Accuracy: 0.711340206185567\n"
     ]
    }
   ],
   "source": [
    "import polarity\n",
    "reload(polarity)\n",
    "pd = polarity.PD(w2v, acd_)\n",
    "pd.train_two()"
   ]
  },
  {
   "cell_type": "code",
   "execution_count": 21,
   "metadata": {
    "collapsed": false
   },
   "outputs": [
    {
     "name": "stdout",
     "output_type": "stream",
     "text": [
      "Yes, it's running and old type processor so, hey, don't even try gaming on it. 0 ['positive']\n",
      "Yes , it 's running and old type processor so , hey , do n't even try gaming on it . 0 ['positive']\n",
      "it 's running 0 ['negative']\n",
      "old type processor so , hey , do n't even try gaming on it 0 ['positive']\n",
      "old type processor so , hey , 0 ['positive']\n",
      "old type processor so 0 ['positive']\n"
     ]
    }
   ],
   "source": [
    "def my_split_on_sents(tree, source_sent):\n",
    "    root = list(tree)[0]\n",
    "    children = root.subtrees(lambda t: t.label() in [\n",
    "            'S', 'SBAR', 'SBARQ', 'SINV', 'NP', 'ADJP'\n",
    "        ] and len(t.leaves()) > 1)\n",
    "    sents = [\n",
    "        tokens_to_sent(sent.leaves())\n",
    "        for sent in children\n",
    "    ]\n",
    "\n",
    "    if len(sents) == 0:\n",
    "        return [source_sent]\n",
    "\n",
    "    return sents\n",
    "\n",
    "source_sents = [\n",
    "    'The screen resolution is crystal clear, the speakers are amazing, and the track pad is easy to use.',\n",
    "    'Despite the fact that there\\'s no optical drive, everything is perfect.',\n",
    "    'The home page/startup is easy to navigate which is the one thing I was mainly concerned about.'\n",
    "]\n",
    "\n",
    "source_sent = 'Yes, it\\'s running and old type processor so, hey, don\\'t even try gaming on it.'\n",
    "cat = 'CPU#DESIGN_FEATURES'\n",
    "\n",
    "tree = pd.parser.raw_parse(source_sent)\n",
    "# draw(tree)\n",
    "\n",
    "sents = my_split_on_sents(tree, source_sent)\n",
    "\n",
    "prob = pd.text_category_prob(source_sent, cat)\n",
    "polarity = pd.predict_polarity(source_sent)\n",
    "print(source_sent, prob, polarity)\n",
    "\n",
    "for sent in sents:\n",
    "    prob = pd.text_category_prob(sent, cat)\n",
    "    polarity = pd.predict_polarity(sent)\n",
    "    print(sent, prob, polarity)"
   ]
  }
 ],
 "metadata": {
  "kernelspec": {
   "display_name": "absa",
   "language": "python",
   "name": "absa"
  },
  "language_info": {
   "codemirror_mode": {
    "name": "ipython",
    "version": 3
   },
   "file_extension": ".py",
   "mimetype": "text/x-python",
   "name": "python",
   "nbconvert_exporter": "python",
   "pygments_lexer": "ipython3",
   "version": "3.6.0"
  }
 },
 "nbformat": 4,
 "nbformat_minor": 0
}
