{
 "cells": [
  {
   "cell_type": "code",
   "execution_count": 1,
   "metadata": {
    "collapsed": false
   },
   "outputs": [
    {
     "name": "stderr",
     "output_type": "stream",
     "text": [
      "C:\\Users\\Alekseyl\\Envs\\absa\\lib\\site-packages\\gensim\\utils.py:855: UserWarning: detected Windows; aliasing chunkize to chunkize_serial\n",
      "  warnings.warn(\"detected Windows; aliasing chunkize to chunkize_serial\")\n",
      "Using TensorFlow backend.\n"
     ]
    }
   ],
   "source": [
    "from importlib import reload\n",
    "from utils import *\n",
    "import test\n",
    "import polarity\n",
    "import acd"
   ]
  },
  {
   "cell_type": "code",
   "execution_count": 2,
   "metadata": {
    "collapsed": false
   },
   "outputs": [
    {
     "name": "stdout",
     "output_type": "stream",
     "text": [
      "Loading real w2v...\n",
      "Done\n"
     ]
    }
   ],
   "source": [
    "w2v = load_w2v()"
   ]
  },
  {
   "cell_type": "code",
   "execution_count": 3,
   "metadata": {
    "collapsed": false
   },
   "outputs": [
    {
     "name": "stdout",
     "output_type": "stream",
     "text": [
      "-- ACD:\n",
      "Loading tokenizer...\n",
      "Loading stemmer...\n",
      "Loading dataset...\n",
      "Training...\n",
      "Evaluating...\n",
      "F1: {'f1': 0.6904231625835189, 'precision': 0.7029478458049887, 'recall': 0.6783369803063457, 'tp': 310, 'fp': 131, 'fn': 147}\n"
     ]
    },
    {
     "name": "stderr",
     "output_type": "stream",
     "text": [
      "C:\\Users\\Alekseyl\\Envs\\absa\\lib\\site-packages\\sklearn\\neural_network\\multilayer_perceptron.py:563: ConvergenceWarning: Stochastic Optimizer: Maximum iterations reached and the optimization hasn't converged yet.\n",
      "  % (), ConvergenceWarning)\n"
     ]
    }
   ],
   "source": [
    "reload(acd)\n",
    "acd_ = acd.ACD(w2v)\n",
    "acd_.train_acd()"
   ]
  },
  {
   "cell_type": "code",
   "execution_count": 4,
   "metadata": {
    "collapsed": false,
    "scrolled": false
   },
   "outputs": [
    {
     "name": "stdout",
     "output_type": "stream",
     "text": [
      "-- PD:\n",
      "Loading tokenizer...\n",
      "Loading stemmer...\n",
      "Loading parser...\n",
      "Loading dataset...\n",
      "Core NLP Parser preprocessing result pickled\n",
      "get_pd_ds progress: 0/1708\n",
      "get_pd_ds progress: 100/1708\n",
      "get_pd_ds progress: 200/1708\n",
      "get_pd_ds progress: 300/1708\n",
      "get_pd_ds progress: 400/1708\n",
      "get_pd_ds progress: 500/1708\n",
      "get_pd_ds progress: 600/1708\n",
      "get_pd_ds progress: 700/1708\n",
      "get_pd_ds progress: 800/1708\n",
      "get_pd_ds progress: 900/1708\n",
      "get_pd_ds progress: 1000/1708\n",
      "get_pd_ds progress: 1100/1708\n",
      "get_pd_ds progress: 1200/1708\n",
      "get_pd_ds progress: 1300/1708\n",
      "get_pd_ds progress: 1400/1708\n",
      "get_pd_ds progress: 1500/1708\n",
      "get_pd_ds progress: 1600/1708\n",
      "get_pd_ds progress: 1700/1708\n"
     ]
    }
   ],
   "source": [
    "reload(polarity)\n",
    "pd = polarity.PD(w2v, acd_)\n",
    "data = pd.prepare_data(pd.get_pd_features_map_tree_distance, False)"
   ]
  },
  {
   "cell_type": "code",
   "execution_count": 5,
   "metadata": {
    "collapsed": false,
    "scrolled": false
   },
   "outputs": [
    {
     "name": "stdout",
     "output_type": "stream",
     "text": [
      "Train on 2005 samples, validate on 502 samples\n",
      "Epoch 1/30\n",
      "2005/2005 [==============================] - 2s - loss: 0.7762 - acc: 0.7097 - val_loss: 0.9623 - val_acc: 0.4243\n",
      "Epoch 2/30\n",
      "2005/2005 [==============================] - 2s - loss: 0.6298 - acc: 0.7217 - val_loss: 0.8705 - val_acc: 0.4303\n",
      "Epoch 3/30\n",
      "2005/2005 [==============================] - 2s - loss: 0.5636 - acc: 0.7491 - val_loss: 0.8550 - val_acc: 0.4681\n",
      "Epoch 4/30\n",
      "2005/2005 [==============================] - 2s - loss: 0.5107 - acc: 0.7915 - val_loss: 0.7823 - val_acc: 0.5618\n",
      "Epoch 5/30\n",
      "2005/2005 [==============================] - 2s - loss: 0.4760 - acc: 0.8239 - val_loss: 0.6766 - val_acc: 0.6773\n",
      "Epoch 6/30\n",
      "2005/2005 [==============================] - 2s - loss: 0.4387 - acc: 0.8369 - val_loss: 0.5946 - val_acc: 0.8108\n",
      "Epoch 7/30\n",
      "2005/2005 [==============================] - 2s - loss: 0.4126 - acc: 0.8489 - val_loss: 0.6331 - val_acc: 0.7410\n",
      "Epoch 8/30\n",
      "2005/2005 [==============================] - 2s - loss: 0.3926 - acc: 0.8584 - val_loss: 0.7978 - val_acc: 0.5956\n",
      "Epoch 9/30\n",
      "2005/2005 [==============================] - 2s - loss: 0.3725 - acc: 0.8693 - val_loss: 0.7240 - val_acc: 0.6454\n",
      "Epoch 10/30\n",
      "2005/2005 [==============================] - 2s - loss: 0.3550 - acc: 0.8733 - val_loss: 0.6962 - val_acc: 0.6554\n",
      "Epoch 11/30\n",
      "2005/2005 [==============================] - 2s - loss: 0.3401 - acc: 0.8783 - val_loss: 0.8311 - val_acc: 0.6016\n",
      "Epoch 12/30\n",
      "2005/2005 [==============================] - 2s - loss: 0.3290 - acc: 0.8813 - val_loss: 0.6365 - val_acc: 0.7271\n",
      "Epoch 13/30\n",
      "2005/2005 [==============================] - 2s - loss: 0.3171 - acc: 0.8868 - val_loss: 0.6248 - val_acc: 0.7450\n",
      "Epoch 14/30\n",
      "2005/2005 [==============================] - 2s - loss: 0.2976 - acc: 0.8943 - val_loss: 0.6534 - val_acc: 0.7032\n",
      "Epoch 15/30\n",
      "2005/2005 [==============================] - 2s - loss: 0.2893 - acc: 0.8928 - val_loss: 0.6820 - val_acc: 0.6853\n",
      "Epoch 16/30\n",
      "2005/2005 [==============================] - 2s - loss: 0.2813 - acc: 0.8998 - val_loss: 0.6607 - val_acc: 0.7092\n",
      "Epoch 17/30\n",
      "2005/2005 [==============================] - 2s - loss: 0.2707 - acc: 0.9022 - val_loss: 0.6919 - val_acc: 0.6912\n",
      "Epoch 18/30\n",
      "2005/2005 [==============================] - 2s - loss: 0.2639 - acc: 0.9082 - val_loss: 0.5694 - val_acc: 0.7869\n",
      "Epoch 19/30\n",
      "2005/2005 [==============================] - 2s - loss: 0.2505 - acc: 0.9117 - val_loss: 0.6278 - val_acc: 0.7351\n",
      "Epoch 20/30\n",
      "2005/2005 [==============================] - 2s - loss: 0.2408 - acc: 0.9167 - val_loss: 0.6661 - val_acc: 0.7112\n",
      "Epoch 21/30\n",
      "2005/2005 [==============================] - 2s - loss: 0.2444 - acc: 0.9102 - val_loss: 0.5850 - val_acc: 0.7809\n",
      "Epoch 22/30\n",
      "2005/2005 [==============================] - 2s - loss: 0.2273 - acc: 0.9207 - val_loss: 0.6981 - val_acc: 0.6932\n",
      "Epoch 23/30\n",
      "2005/2005 [==============================] - 2s - loss: 0.2267 - acc: 0.9197 - val_loss: 0.6196 - val_acc: 0.7490\n",
      "Epoch 24/30\n",
      "2005/2005 [==============================] - 2s - loss: 0.2200 - acc: 0.9227 - val_loss: 0.6851 - val_acc: 0.7072\n",
      "Epoch 25/30\n",
      "2005/2005 [==============================] - 2s - loss: 0.2156 - acc: 0.9192 - val_loss: 0.7167 - val_acc: 0.6853\n",
      "Epoch 26/30\n",
      "2005/2005 [==============================] - 2s - loss: 0.2134 - acc: 0.9232 - val_loss: 0.6000 - val_acc: 0.7709\n",
      "Epoch 27/30\n",
      "2005/2005 [==============================] - 2s - loss: 0.2087 - acc: 0.9212 - val_loss: 0.6359 - val_acc: 0.7410\n",
      "Epoch 28/30\n",
      "2005/2005 [==============================] - 2s - loss: 0.1975 - acc: 0.9297 - val_loss: 0.7005 - val_acc: 0.7012\n",
      "Epoch 29/30\n",
      "2005/2005 [==============================] - 2s - loss: 0.1990 - acc: 0.9247 - val_loss: 0.6649 - val_acc: 0.7191\n",
      "Epoch 30/30\n",
      "2005/2005 [==============================] - 2s - loss: 0.1868 - acc: 0.9362 - val_loss: 0.6761 - val_acc: 0.7191\n",
      "Max val_acc: 0.8107569588133063 (step: 5)\n"
     ]
    }
   ],
   "source": [
    "reload(polarity)\n",
    "pd = polarity.PD(w2v, acd_)\n",
    "pd.train_pd_keras(data)"
   ]
  },
  {
   "cell_type": "code",
   "execution_count": 6,
   "metadata": {
    "collapsed": false
   },
   "outputs": [],
   "source": [
    "# from sklearn.svm import SVC\n",
    "\n",
    "# x_train_flat = x_train.reshape(len(x_train), pd.max_sentence_len * 300)\n",
    "# x_test_flat = x_test.reshape(len(x_test), pd.max_sentence_len * 300)\n",
    "\n",
    "# clf = SVC(kernel='rbf', C=15, random_state=1, probability=True)\n",
    "# clf.fit(x_train_flat, y_train)\n",
    "# predictions = clf.predict_proba(x_test_flat)\n",
    "# pd.calc_accuracy(y_test, predictions, clf.classes_)"
   ]
  }
 ],
 "metadata": {
  "kernelspec": {
   "display_name": "absa",
   "language": "python",
   "name": "absa"
  },
  "language_info": {
   "codemirror_mode": {
    "name": "ipython",
    "version": 3
   },
   "file_extension": ".py",
   "mimetype": "text/x-python",
   "name": "python",
   "nbconvert_exporter": "python",
   "pygments_lexer": "ipython3",
   "version": "3.6.0"
  }
 },
 "nbformat": 4,
 "nbformat_minor": 0
}
