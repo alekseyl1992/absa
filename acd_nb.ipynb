{
 "cells": [
  {
   "cell_type": "code",
   "execution_count": 12,
   "metadata": {
    "collapsed": false
   },
   "outputs": [],
   "source": [
    "%matplotlib inline\n",
    "from importlib import reload\n",
    "from ds_loader import *\n",
    "import test"
   ]
  },
  {
   "cell_type": "code",
   "execution_count": 2,
   "metadata": {
    "collapsed": false
   },
   "outputs": [
    {
     "name": "stdout",
     "output_type": "stream",
     "text": [
      "Loading w2v...\n"
     ]
    }
   ],
   "source": [
    "w2v = load_w2v()"
   ]
  },
  {
   "cell_type": "code",
   "execution_count": 45,
   "metadata": {
    "collapsed": false
   },
   "outputs": [
    {
     "name": "stdout",
     "output_type": "stream",
     "text": [
      "Loading tokenizer...\n",
      "Loading stemmer...\n",
      "Loading dataset...\n",
      "Training...\n",
      "Evaluating...\n",
      "F1: {'f1': 0.6054721977052074, 'precision': 0.6533333333333333, 'recall': 0.5641447368421053, 'tp': 343, 'fp': 182, 'fn': 265}\n"
     ]
    }
   ],
   "source": [
    "reload(test)\n",
    "acd = test.ACD(w2v)\n",
    "acd.train_acd()"
   ]
  },
  {
   "cell_type": "code",
   "execution_count": 43,
   "metadata": {
    "collapsed": false
   },
   "outputs": [
    {
     "data": {
      "text/plain": [
       "[('BATTERY#OPERATION_PERFORMANCE', 'battery'), ('DISPLAY#GENERAL', 'Screen')]"
      ]
     },
     "execution_count": 43,
     "metadata": {},
     "output_type": "execute_result"
    }
   ],
   "source": [
    "sent = 'Screen looks awesome; but battery is bad'\n",
    "acd.predict_ote(sent)"
   ]
  },
  {
   "cell_type": "code",
   "execution_count": 44,
   "metadata": {
    "collapsed": false
   },
   "outputs": [
    {
     "data": {
      "text/plain": [
       "[('Screen', ('DISPLAY#OPERATION_PERFORMANCE', 0.99669658377617576)),\n",
       " ('looks', ('LAPTOP#DESIGN_FEATURES', 0.81999569565829755)),\n",
       " ('awesome', ('LAPTOP#GENERAL', 0.97661846665983543)),\n",
       " (';', ('LAPTOP#GENERAL', 0.55233249441951748)),\n",
       " ('but', ('LAPTOP#GENERAL', 0.55233249441951748)),\n",
       " ('battery', ('BATTERY#OPERATION_PERFORMANCE', 0.99999999999996991)),\n",
       " ('is', ('LAPTOP#GENERAL', 0.55233249441951748)),\n",
       " ('bad', ('LAPTOP#GENERAL', 0.81856537528460671))]"
      ]
     },
     "execution_count": 44,
     "metadata": {},
     "output_type": "execute_result"
    }
   ],
   "source": [
    "tokens = acd.tokenizer.tokenize(sent)\n",
    "acd.predict_many(tokens)"
   ]
  },
  {
   "cell_type": "code",
   "execution_count": 42,
   "metadata": {
    "collapsed": false
   },
   "outputs": [
    {
     "data": {
      "text/plain": [
       "[('LAPTOP#GENERAL', 0.83204387077602593),\n",
       " ('LAPTOP#QUALITY', 0.22394779530643619),\n",
       " ('LAPTOP#DESIGN_FEATURES', 0.062264298976433645),\n",
       " ('LAPTOP#USABILITY', 0.05011574557362531),\n",
       " ('COMPANY#GENERAL', 0.040102785527563578),\n",
       " ('LAPTOP#OPERATION_PERFORMANCE', 0.03179617166246769),\n",
       " ('LAPTOP#PRICE', 0.031643914922377399),\n",
       " ('LAPTOP#MISCELLANEOUS', 0.031514862886093731),\n",
       " ('SOFTWARE#MISCELLANEOUS', 0.027833732955061277),\n",
       " ('DISPLAY#QUALITY', 0.025778995441832483),\n",
       " ('SOFTWARE#USABILITY', 0.0091338109989233598),\n",
       " ('OS#GENERAL', 0.007981816673353636),\n",
       " ('GRAPHICS#GENERAL', 0.0068347376030942096),\n",
       " ('LAPTOP#CONNECTIVITY', 0.005674497238831855),\n",
       " ('KEYBOARD#GENERAL', 0.0045147348925420692),\n",
       " ('MULTIMEDIA_DEVICES#QUALITY', 0.0039244248395160939),\n",
       " ('BATTERY#OPERATION_PERFORMANCE', 0.0037289456046055141),\n",
       " ('MOUSE#GENERAL', 0.0034113602564100694),\n",
       " ('WARRANTY#GENERAL', 0.0033354829748710743),\n",
       " ('OS#DESIGN_FEATURES', 0.0031588598699810312),\n",
       " ('OS#QUALITY', 0.0024943743131364631),\n",
       " ('SOFTWARE#GENERAL', 0.0024378075267798708),\n",
       " ('SUPPORT#QUALITY', 0.0020841089932411697),\n",
       " ('HARDWARE#GENERAL', 0.0020014575814158134),\n",
       " ('CPU#MISCELLANEOUS', 0.0018137995775388985),\n",
       " ('POWER_SUPPLY#DESIGN_FEATURES', 0.0017525973079541741),\n",
       " ('MOUSE#DESIGN_FEATURES', 0.0016512916419149169),\n",
       " ('HARDWARE#QUALITY', 0.0016476809187040292),\n",
       " ('SHIPPING#QUALITY', 0.0015683205280870626),\n",
       " ('SUPPORT#MISCELLANEOUS', 0.0015386483277245303),\n",
       " ('SOFTWARE#QUALITY', 0.0014492203725677676),\n",
       " ('OS#OPERATION_PERFORMANCE', 0.0013982624333587585),\n",
       " ('OS#MISCELLANEOUS', 0.0013367802923490654),\n",
       " ('DISPLAY#DESIGN_FEATURES', 0.0013317725075796803),\n",
       " ('KEYBOARD#OPERATION_PERFORMANCE', 0.0013212303528322875),\n",
       " ('FANS_COOLING#QUALITY', 0.0012326542853927677),\n",
       " ('OPTICAL_DRIVES#OPERATION_PERFORMANCE', 0.0012034578608448611),\n",
       " ('HARD_DISC#DESIGN_FEATURES', 0.0011128013410415243),\n",
       " ('MULTIMEDIA_DEVICES#MISCELLANEOUS', 0.0010689581115891115),\n",
       " ('GRAPHICS#MISCELLANEOUS', 0.00096741519337022327),\n",
       " ('BATTERY#MISCELLANEOUS', 0.00094185741865764928),\n",
       " ('PORTS#OPERATION_PERFORMANCE', 0.00091111526674943297),\n",
       " ('DISPLAY#USABILITY', 0.00089506292572897619),\n",
       " ('FANS_COOLING#DESIGN_FEATURES', 0.00085542634823693338),\n",
       " ('DISPLAY#GENERAL', 0.0008473285394879934),\n",
       " ('SHIPPING#PRICE', 0.00082602896722171085),\n",
       " ('POWER_SUPPLY#MISCELLANEOUS', 0.00081989232610199124),\n",
       " ('MULTIMEDIA_DEVICES#USABILITY', 0.00080787305721616504),\n",
       " ('MULTIMEDIA_DEVICES#DESIGN_FEATURES', 0.00075349690077463412),\n",
       " ('CPU#QUALITY', 0.00072618622335352456),\n",
       " ('FANS_COOLING#OPERATION_PERFORMANCE', 0.00072070080844652685),\n",
       " ('SOFTWARE#OPERATION_PERFORMANCE', 0.00060352551370429215),\n",
       " ('PORTS#DESIGN_FEATURES', 0.00056318715150977872),\n",
       " ('SOFTWARE#PRICE', 0.00049226233314801637),\n",
       " ('OPTICAL_DRIVES#QUALITY', 0.00042843630800864818),\n",
       " ('SOFTWARE#DESIGN_FEATURES', 0.00041286609161396122),\n",
       " ('WARRANTY#PRICE', 0.00041118060551183943),\n",
       " ('PORTS#QUALITY', 0.00037714345855872325),\n",
       " ('MOUSE#OPERATION_PERFORMANCE', 0.00036465125465870137),\n",
       " ('MOTHERBOARD#QUALITY', 0.00032690338645448264),\n",
       " ('MULTIMEDIA_DEVICES#GENERAL', 0.00026603781219806006),\n",
       " ('KEYBOARD#QUALITY', 0.00024674874211119902),\n",
       " ('OS#USABILITY', 0.00019521728660686454),\n",
       " ('GRAPHICS#DESIGN_FEATURES', 0.00018262491372168709),\n",
       " ('BATTERY#QUALITY', 0.0001526600115111965),\n",
       " ('GRAPHICS#QUALITY', 0.00014207983763855718),\n",
       " ('KEYBOARD#USABILITY', 0.00013015839044671219),\n",
       " ('POWER_SUPPLY#QUALITY', 0.00012898350247844632),\n",
       " ('MULTIMEDIA_DEVICES#OPERATION_PERFORMANCE', 9.9795943493040181e-05),\n",
       " ('DISPLAY#OPERATION_PERFORMANCE', 8.7290154488551562e-05),\n",
       " ('MOUSE#USABILITY', 6.2608142456322367e-05),\n",
       " ('CPU#OPERATION_PERFORMANCE', 6.2583021092617257e-05),\n",
       " ('SUPPORT#PRICE', 4.5672303906572724e-05),\n",
       " ('MEMORY#DESIGN_FEATURES', 3.9573550914780519e-05),\n",
       " ('MOUSE#QUALITY', 3.4637963323198277e-05),\n",
       " ('POWER_SUPPLY#OPERATION_PERFORMANCE', 2.7482431471123552e-05),\n",
       " ('HARD_DISC#QUALITY', 2.3069099421960128e-05),\n",
       " ('KEYBOARD#DESIGN_FEATURES', 1.8588802964781653e-05),\n",
       " ('LAPTOP#PORTABILITY', 5.4318782701200125e-06)]"
      ]
     },
     "execution_count": 42,
     "metadata": {},
     "output_type": "execute_result"
    }
   ],
   "source": [
    "acd.predict('Excellent product')"
   ]
  }
 ],
 "metadata": {
  "kernelspec": {
   "display_name": "absa",
   "language": "python",
   "name": "absa"
  },
  "language_info": {
   "codemirror_mode": {
    "name": "ipython",
    "version": 3.0
   },
   "file_extension": ".py",
   "mimetype": "text/x-python",
   "name": "python",
   "nbconvert_exporter": "python",
   "pygments_lexer": "ipython3",
   "version": "3.6.0"
  }
 },
 "nbformat": 4,
 "nbformat_minor": 0
}